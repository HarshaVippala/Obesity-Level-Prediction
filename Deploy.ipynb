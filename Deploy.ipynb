{
  "nbformat": 4,
  "nbformat_minor": 0,
  "metadata": {
    "colab": {
      "name": "Deploy.ipynb",
      "provenance": []
    },
    "kernelspec": {
      "name": "python3",
      "display_name": "Python 3"
    }
  },
  "cells": [
    {
      "cell_type": "code",
      "metadata": {
        "id": "_WUVaF0FrM1G"
      },
      "source": [
        "from sklearn.externals import joblib"
      ],
      "execution_count": null,
      "outputs": []
    },
    {
      "cell_type": "code",
      "metadata": {
        "id": "78amGwD7rdov"
      },
      "source": [
        "model=joblib.load(\"/content/ObesemodelPoly3.ml\")"
      ],
      "execution_count": null,
      "outputs": []
    },
    {
      "cell_type": "markdown",
      "metadata": {
        "id": "gD3jv9RAsG5b"
      },
      "source": [
        "###['Age', 'CAEC', 'family_history_with_overweight', 'CALC', 'Weight','CH2O', 'FAF']"
      ]
    },
    {
      "cell_type": "code",
      "metadata": {
        "colab": {
          "base_uri": "https://localhost:8080/"
        },
        "id": "PiMhQu1arlXO",
        "outputId": "9987f996-a5f7-4e92-a16a-90b41839e8cf"
      },
      "source": [
        "\n",
        "from sklearn.preprocessing import PolynomialFeatures\n",
        "\n",
        "poly=PolynomialFeatures(3)\n",
        "xx=poly.fit_transform([[21,1,1,1,80,3,1]])\n",
        "print(model.predict(xx))"
      ],
      "execution_count": null,
      "outputs": [
        {
          "output_type": "stream",
          "text": [
            "[4]\n"
          ],
          "name": "stdout"
        }
      ]
    },
    {
      "cell_type": "code",
      "metadata": {
        "id": "9-DgehCbsZBm"
      },
      "source": [
        ""
      ],
      "execution_count": null,
      "outputs": []
    }
  ]
}