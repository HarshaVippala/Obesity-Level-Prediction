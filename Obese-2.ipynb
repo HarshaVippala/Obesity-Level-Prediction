{
  "nbformat": 4,
  "nbformat_minor": 0,
  "metadata": {
    "colab": {
      "name": "Obese.ipynb",
      "provenance": [],
      "collapsed_sections": []
    },
    "kernelspec": {
      "name": "python3",
      "display_name": "Python 3"
    }
  },
  "cells": [
    {
      "cell_type": "markdown",
      "metadata": {
        "id": "rVGyo-nTCiXE"
      },
      "source": [
        "Hi I'm mra503, this is developed and designed by me.\n",
        "This Notebook uses data from Kaggle, and predicts the possible obesity type..\n",
        "\n",
        "Step 1: Cleaning the data i.e converting the categorical data...\n",
        "VARIABLE ENCODING\n",
        "\n",
        "In step 1, Used LeaveoneOut encoder to the encoding,\n",
        "and then normalization is done\n",
        "Step 2: Extracting the best possible features from 17 odd features\n",
        "\n",
        "In step 2, used correlation to get a heat map, and then extracted the best possible features\n",
        "\n",
        "Step3: Training model using those features (used polynomial regression as I'm using 7 odd features)"
      ]
    },
    {
      "cell_type": "code",
      "metadata": {
        "id": "pKNgrgmBJIxA"
      },
      "source": [
        "import pandas as pd"
      ],
      "execution_count": null,
      "outputs": []
    },
    {
      "cell_type": "code",
      "metadata": {
        "colab": {
          "base_uri": "https://localhost:8080/",
          "height": 224
        },
        "id": "wPqfWD0fIQdn",
        "outputId": "1e1ffdff-06b7-4b43-e228-de93ff618f54"
      },
      "source": [
        "df = pd.read_csv('/content/ObesityDataSet_raw_and_data_sinthetic.csv', encoding='ISO-8859-2')\n",
        "df.head()"
      ],
      "execution_count": null,
      "outputs": [
        {
          "output_type": "execute_result",
          "data": {
            "text/html": [
              "<div>\n",
              "<style scoped>\n",
              "    .dataframe tbody tr th:only-of-type {\n",
              "        vertical-align: middle;\n",
              "    }\n",
              "\n",
              "    .dataframe tbody tr th {\n",
              "        vertical-align: top;\n",
              "    }\n",
              "\n",
              "    .dataframe thead th {\n",
              "        text-align: right;\n",
              "    }\n",
              "</style>\n",
              "<table border=\"1\" class=\"dataframe\">\n",
              "  <thead>\n",
              "    <tr style=\"text-align: right;\">\n",
              "      <th></th>\n",
              "      <th>Gender</th>\n",
              "      <th>Age</th>\n",
              "      <th>Height</th>\n",
              "      <th>Weight</th>\n",
              "      <th>family_history_with_overweight</th>\n",
              "      <th>FAVC</th>\n",
              "      <th>FCVC</th>\n",
              "      <th>NCP</th>\n",
              "      <th>CAEC</th>\n",
              "      <th>SMOKE</th>\n",
              "      <th>CH2O</th>\n",
              "      <th>SCC</th>\n",
              "      <th>FAF</th>\n",
              "      <th>TUE</th>\n",
              "      <th>CALC</th>\n",
              "      <th>MTRANS</th>\n",
              "      <th>NObeyesdad</th>\n",
              "    </tr>\n",
              "  </thead>\n",
              "  <tbody>\n",
              "    <tr>\n",
              "      <th>0</th>\n",
              "      <td>Female</td>\n",
              "      <td>21.0</td>\n",
              "      <td>1.62</td>\n",
              "      <td>64.0</td>\n",
              "      <td>yes</td>\n",
              "      <td>no</td>\n",
              "      <td>2.0</td>\n",
              "      <td>3.0</td>\n",
              "      <td>Sometimes</td>\n",
              "      <td>no</td>\n",
              "      <td>2.0</td>\n",
              "      <td>no</td>\n",
              "      <td>0.0</td>\n",
              "      <td>1.0</td>\n",
              "      <td>no</td>\n",
              "      <td>Public_Transportation</td>\n",
              "      <td>Normal_Weight</td>\n",
              "    </tr>\n",
              "    <tr>\n",
              "      <th>1</th>\n",
              "      <td>Female</td>\n",
              "      <td>21.0</td>\n",
              "      <td>1.52</td>\n",
              "      <td>56.0</td>\n",
              "      <td>yes</td>\n",
              "      <td>no</td>\n",
              "      <td>3.0</td>\n",
              "      <td>3.0</td>\n",
              "      <td>Sometimes</td>\n",
              "      <td>yes</td>\n",
              "      <td>3.0</td>\n",
              "      <td>yes</td>\n",
              "      <td>3.0</td>\n",
              "      <td>0.0</td>\n",
              "      <td>Sometimes</td>\n",
              "      <td>Public_Transportation</td>\n",
              "      <td>Normal_Weight</td>\n",
              "    </tr>\n",
              "    <tr>\n",
              "      <th>2</th>\n",
              "      <td>Male</td>\n",
              "      <td>23.0</td>\n",
              "      <td>1.80</td>\n",
              "      <td>77.0</td>\n",
              "      <td>yes</td>\n",
              "      <td>no</td>\n",
              "      <td>2.0</td>\n",
              "      <td>3.0</td>\n",
              "      <td>Sometimes</td>\n",
              "      <td>no</td>\n",
              "      <td>2.0</td>\n",
              "      <td>no</td>\n",
              "      <td>2.0</td>\n",
              "      <td>1.0</td>\n",
              "      <td>Frequently</td>\n",
              "      <td>Public_Transportation</td>\n",
              "      <td>Normal_Weight</td>\n",
              "    </tr>\n",
              "    <tr>\n",
              "      <th>3</th>\n",
              "      <td>Male</td>\n",
              "      <td>27.0</td>\n",
              "      <td>1.80</td>\n",
              "      <td>87.0</td>\n",
              "      <td>no</td>\n",
              "      <td>no</td>\n",
              "      <td>3.0</td>\n",
              "      <td>3.0</td>\n",
              "      <td>Sometimes</td>\n",
              "      <td>no</td>\n",
              "      <td>2.0</td>\n",
              "      <td>no</td>\n",
              "      <td>2.0</td>\n",
              "      <td>0.0</td>\n",
              "      <td>Frequently</td>\n",
              "      <td>Walking</td>\n",
              "      <td>Overweight_Level_I</td>\n",
              "    </tr>\n",
              "    <tr>\n",
              "      <th>4</th>\n",
              "      <td>Male</td>\n",
              "      <td>22.0</td>\n",
              "      <td>1.78</td>\n",
              "      <td>89.8</td>\n",
              "      <td>no</td>\n",
              "      <td>no</td>\n",
              "      <td>2.0</td>\n",
              "      <td>1.0</td>\n",
              "      <td>Sometimes</td>\n",
              "      <td>no</td>\n",
              "      <td>2.0</td>\n",
              "      <td>no</td>\n",
              "      <td>0.0</td>\n",
              "      <td>0.0</td>\n",
              "      <td>Sometimes</td>\n",
              "      <td>Public_Transportation</td>\n",
              "      <td>Overweight_Level_II</td>\n",
              "    </tr>\n",
              "  </tbody>\n",
              "</table>\n",
              "</div>"
            ],
            "text/plain": [
              "   Gender   Age  Height  ...        CALC                 MTRANS           NObeyesdad\n",
              "0  Female  21.0    1.62  ...          no  Public_Transportation        Normal_Weight\n",
              "1  Female  21.0    1.52  ...   Sometimes  Public_Transportation        Normal_Weight\n",
              "2    Male  23.0    1.80  ...  Frequently  Public_Transportation        Normal_Weight\n",
              "3    Male  27.0    1.80  ...  Frequently                Walking   Overweight_Level_I\n",
              "4    Male  22.0    1.78  ...   Sometimes  Public_Transportation  Overweight_Level_II\n",
              "\n",
              "[5 rows x 17 columns]"
            ]
          },
          "metadata": {
            "tags": []
          },
          "execution_count": 66
        }
      ]
    },
    {
      "cell_type": "markdown",
      "metadata": {
        "id": "8mkW0wcUKZ9N"
      },
      "source": [
        "The attributes related with eating habits are: Frequent consumption of high caloric food (FAVC), Frequency of consumption of vegetables (FCVC), Number of main meals (NCP), Consumption of food between meals (CAEC), Consumption of water daily (CH20), and Consumption of alcohol (CALC). The attributes related with the physical condition are: Calories consumption monitoring (SCC), Physical activity frequency (FAF), Time using technology devices (TUE), Transportation used (MTRANS), other variables obtained were: Gender, Age, Height and Weight. Finally, all data was labeled and the class variable NObesity was created with the values of: Insufficient Weight, Normal Weight, Overweight Level I, Overweight Level II, Obesity Type I, Obesity Type II and Obesity Type III"
      ]
    },
    {
      "cell_type": "markdown",
      "metadata": {
        "id": "rBO0T5x4Kh-h"
      },
      "source": [
        "#Data goes like this"
      ]
    },
    {
      "cell_type": "markdown",
      "metadata": {
        "id": "unlVLznOKkWH"
      },
      "source": [
        "What is your gender?\t\n",
        "•\n",
        "Female\n",
        "\n",
        "•\n",
        "Male\n",
        "\n",
        "¿what is your age?\tNumeric value\n",
        "¿what is your height?\tNumeric value in meters\n",
        "¿what is your weight?\tNumeric value in kilograms\n",
        "¿Has a family member suffered or suffers from overweight?\t\n",
        "•\n",
        "Yes\n",
        "\n",
        "•\n",
        "No\n",
        "\n",
        "¿Do you eat high caloric food frequently?\t\n",
        "•\n",
        "Yes\n",
        "\n",
        "•\n",
        "No\n",
        "\n",
        "¿Do you usually eat vegetables in your meals?\t\n",
        "•\n",
        "Never\n",
        "\n",
        "•\n",
        "Sometimes\n",
        "\n",
        "•\n",
        "Always\n",
        "\n",
        "¿How many main meals do you have daily?\t\n",
        "•\n",
        "Between 1 y 2\n",
        "\n",
        "•\n",
        "Three\n",
        "\n",
        "•\n",
        "More than three\n",
        "\n",
        "¿Do you eat any food between meals?\t\n",
        "•\n",
        "No\n",
        "\n",
        "•\n",
        "Sometimes\n",
        "\n",
        "•\n",
        "Frequently\n",
        "\n",
        "•\n",
        "Always\n",
        "\n",
        "¿Do you smoke?\t\n",
        "•\n",
        "Yes\n",
        "\n",
        "•\n",
        "No\n",
        "\n",
        "¿How much water do you drink daily?\t\n",
        "•\n",
        "Less than a liter\n",
        "\n",
        "•\n",
        "Between 1 and 2 L\n",
        "\n",
        "•\n",
        "More than 2 L\n",
        "\n",
        "¿Do you monitor the calories you eat daily?\t\n",
        "•\n",
        "Yes\n",
        "\n",
        "•\n",
        "No\n",
        "\n",
        "¿How often do you have physical activity?\t\n",
        "•\n",
        "I do not have\n",
        "\n",
        "•\n",
        "1 or 2 days\n",
        "\n",
        "•\n",
        "2 or 4 days\n",
        "\n",
        "•\n",
        "4 or 5 days\n",
        "\n",
        "¿How much time do you use technological devices such as cell phone, videogames, television, computer and others?\t\n",
        "•\n",
        "0–2 hours\n",
        "\n",
        "•\n",
        "3–5 hours\n",
        "\n",
        "•\n",
        "More than 5 hours\n",
        "\n",
        "¿how often do you drink alcohol?\t\n",
        "•\n",
        "I do not drink\n",
        "\n",
        "•\n",
        "Sometimes\n",
        "\n",
        "•\n",
        "Frequently\n",
        "\n",
        "•\n",
        "Always\n",
        "\n",
        "¿Which transportation do you usually use?\t\n",
        "•\n",
        "Automobile\n",
        "\n",
        "•\n",
        "Motorbike\n",
        "\n",
        "•\n",
        "Bike\n",
        "\n",
        "•\n",
        "Public Transportation\n",
        "\n",
        "•\n",
        "Walking"
      ]
    },
    {
      "cell_type": "code",
      "metadata": {
        "colab": {
          "base_uri": "https://localhost:8080/"
        },
        "id": "nesncF9tMMze",
        "outputId": "2a8580c9-24a0-4071-d04e-3beb676dcd73"
      },
      "source": [
        "print(df.shape)\n",
        "X=df.loc[:,:'MTRANS']\n",
        "X.shape\n",
        "y=df['NObeyesdad']\n",
        "\n",
        "y=y.astype('category')\n",
        "y.head\n",
        "\n",
        "#y.shape"
      ],
      "execution_count": null,
      "outputs": [
        {
          "output_type": "stream",
          "text": [
            "(2111, 17)\n"
          ],
          "name": "stdout"
        },
        {
          "output_type": "execute_result",
          "data": {
            "text/plain": [
              "<bound method NDFrame.head of 0             Normal_Weight\n",
              "1             Normal_Weight\n",
              "2             Normal_Weight\n",
              "3        Overweight_Level_I\n",
              "4       Overweight_Level_II\n",
              "               ...         \n",
              "2106       Obesity_Type_III\n",
              "2107       Obesity_Type_III\n",
              "2108       Obesity_Type_III\n",
              "2109       Obesity_Type_III\n",
              "2110       Obesity_Type_III\n",
              "Name: NObeyesdad, Length: 2111, dtype: category\n",
              "Categories (7, object): ['Insufficient_Weight', 'Normal_Weight', 'Obesity_Type_I', 'Obesity_Type_II',\n",
              "                         'Obesity_Type_III', 'Overweight_Level_I', 'Overweight_Level_II']>"
            ]
          },
          "metadata": {
            "tags": []
          },
          "execution_count": 67
        }
      ]
    },
    {
      "cell_type": "code",
      "metadata": {
        "colab": {
          "base_uri": "https://localhost:8080/"
        },
        "id": "CWU7WG5H1Bhg",
        "outputId": "32435d88-0e59-495f-ab34-14a7f6e7da73"
      },
      "source": [
        "X.dtypes"
      ],
      "execution_count": null,
      "outputs": [
        {
          "output_type": "execute_result",
          "data": {
            "text/plain": [
              "Gender                             object\n",
              "Age                               float64\n",
              "Height                            float64\n",
              "Weight                            float64\n",
              "family_history_with_overweight     object\n",
              "FAVC                               object\n",
              "FCVC                              float64\n",
              "NCP                               float64\n",
              "CAEC                               object\n",
              "SMOKE                              object\n",
              "CH2O                              float64\n",
              "SCC                                object\n",
              "FAF                               float64\n",
              "TUE                               float64\n",
              "CALC                               object\n",
              "MTRANS                             object\n",
              "dtype: object"
            ]
          },
          "metadata": {
            "tags": []
          },
          "execution_count": 68
        }
      ]
    },
    {
      "cell_type": "code",
      "metadata": {
        "colab": {
          "base_uri": "https://localhost:8080/",
          "height": 224
        },
        "id": "LK9vake_2NjY",
        "outputId": "44985d2b-4bef-438d-f7be-99501ff7b2b0"
      },
      "source": [
        "obj_X = X.select_dtypes(include=['object']).copy()\n",
        "obj_X.head()"
      ],
      "execution_count": null,
      "outputs": [
        {
          "output_type": "execute_result",
          "data": {
            "text/html": [
              "<div>\n",
              "<style scoped>\n",
              "    .dataframe tbody tr th:only-of-type {\n",
              "        vertical-align: middle;\n",
              "    }\n",
              "\n",
              "    .dataframe tbody tr th {\n",
              "        vertical-align: top;\n",
              "    }\n",
              "\n",
              "    .dataframe thead th {\n",
              "        text-align: right;\n",
              "    }\n",
              "</style>\n",
              "<table border=\"1\" class=\"dataframe\">\n",
              "  <thead>\n",
              "    <tr style=\"text-align: right;\">\n",
              "      <th></th>\n",
              "      <th>Gender</th>\n",
              "      <th>family_history_with_overweight</th>\n",
              "      <th>FAVC</th>\n",
              "      <th>CAEC</th>\n",
              "      <th>SMOKE</th>\n",
              "      <th>SCC</th>\n",
              "      <th>CALC</th>\n",
              "      <th>MTRANS</th>\n",
              "    </tr>\n",
              "  </thead>\n",
              "  <tbody>\n",
              "    <tr>\n",
              "      <th>0</th>\n",
              "      <td>Female</td>\n",
              "      <td>yes</td>\n",
              "      <td>no</td>\n",
              "      <td>Sometimes</td>\n",
              "      <td>no</td>\n",
              "      <td>no</td>\n",
              "      <td>no</td>\n",
              "      <td>Public_Transportation</td>\n",
              "    </tr>\n",
              "    <tr>\n",
              "      <th>1</th>\n",
              "      <td>Female</td>\n",
              "      <td>yes</td>\n",
              "      <td>no</td>\n",
              "      <td>Sometimes</td>\n",
              "      <td>yes</td>\n",
              "      <td>yes</td>\n",
              "      <td>Sometimes</td>\n",
              "      <td>Public_Transportation</td>\n",
              "    </tr>\n",
              "    <tr>\n",
              "      <th>2</th>\n",
              "      <td>Male</td>\n",
              "      <td>yes</td>\n",
              "      <td>no</td>\n",
              "      <td>Sometimes</td>\n",
              "      <td>no</td>\n",
              "      <td>no</td>\n",
              "      <td>Frequently</td>\n",
              "      <td>Public_Transportation</td>\n",
              "    </tr>\n",
              "    <tr>\n",
              "      <th>3</th>\n",
              "      <td>Male</td>\n",
              "      <td>no</td>\n",
              "      <td>no</td>\n",
              "      <td>Sometimes</td>\n",
              "      <td>no</td>\n",
              "      <td>no</td>\n",
              "      <td>Frequently</td>\n",
              "      <td>Walking</td>\n",
              "    </tr>\n",
              "    <tr>\n",
              "      <th>4</th>\n",
              "      <td>Male</td>\n",
              "      <td>no</td>\n",
              "      <td>no</td>\n",
              "      <td>Sometimes</td>\n",
              "      <td>no</td>\n",
              "      <td>no</td>\n",
              "      <td>Sometimes</td>\n",
              "      <td>Public_Transportation</td>\n",
              "    </tr>\n",
              "  </tbody>\n",
              "</table>\n",
              "</div>"
            ],
            "text/plain": [
              "   Gender family_history_with_overweight  ...        CALC                 MTRANS\n",
              "0  Female                            yes  ...          no  Public_Transportation\n",
              "1  Female                            yes  ...   Sometimes  Public_Transportation\n",
              "2    Male                            yes  ...  Frequently  Public_Transportation\n",
              "3    Male                             no  ...  Frequently                Walking\n",
              "4    Male                             no  ...   Sometimes  Public_Transportation\n",
              "\n",
              "[5 rows x 8 columns]"
            ]
          },
          "metadata": {
            "tags": []
          },
          "execution_count": 69
        }
      ]
    },
    {
      "cell_type": "markdown",
      "metadata": {
        "id": "V33mSBXR2TxL"
      },
      "source": [
        "Now converting this oject to categorical "
      ]
    },
    {
      "cell_type": "code",
      "metadata": {
        "colab": {
          "base_uri": "https://localhost:8080/"
        },
        "id": "ekf-7vKyMM9C",
        "outputId": "0ae23c23-b8f0-4ac2-8c7c-8eaaf82bde3f"
      },
      "source": [
        "pip install --upgrade category_encoders"
      ],
      "execution_count": null,
      "outputs": [
        {
          "output_type": "stream",
          "text": [
            "Requirement already up-to-date: category_encoders in /usr/local/lib/python3.6/dist-packages (2.2.2)\n",
            "Requirement already satisfied, skipping upgrade: scipy>=1.0.0 in /usr/local/lib/python3.6/dist-packages (from category_encoders) (1.4.1)\n",
            "Requirement already satisfied, skipping upgrade: pandas>=0.21.1 in /usr/local/lib/python3.6/dist-packages (from category_encoders) (1.1.4)\n",
            "Requirement already satisfied, skipping upgrade: patsy>=0.5.1 in /usr/local/lib/python3.6/dist-packages (from category_encoders) (0.5.1)\n",
            "Requirement already satisfied, skipping upgrade: statsmodels>=0.9.0 in /usr/local/lib/python3.6/dist-packages (from category_encoders) (0.10.2)\n",
            "Requirement already satisfied, skipping upgrade: scikit-learn>=0.20.0 in /usr/local/lib/python3.6/dist-packages (from category_encoders) (0.22.2.post1)\n",
            "Requirement already satisfied, skipping upgrade: numpy>=1.14.0 in /usr/local/lib/python3.6/dist-packages (from category_encoders) (1.18.5)\n",
            "Requirement already satisfied, skipping upgrade: python-dateutil>=2.7.3 in /usr/local/lib/python3.6/dist-packages (from pandas>=0.21.1->category_encoders) (2.8.1)\n",
            "Requirement already satisfied, skipping upgrade: pytz>=2017.2 in /usr/local/lib/python3.6/dist-packages (from pandas>=0.21.1->category_encoders) (2018.9)\n",
            "Requirement already satisfied, skipping upgrade: six in /usr/local/lib/python3.6/dist-packages (from patsy>=0.5.1->category_encoders) (1.15.0)\n",
            "Requirement already satisfied, skipping upgrade: joblib>=0.11 in /usr/local/lib/python3.6/dist-packages (from scikit-learn>=0.20.0->category_encoders) (0.17.0)\n"
          ],
          "name": "stdout"
        }
      ]
    },
    {
      "cell_type": "code",
      "metadata": {
        "colab": {
          "base_uri": "https://localhost:8080/"
        },
        "id": "xzyPle1D2NY2",
        "outputId": "16ca0b29-82e5-4282-943f-973c82110048"
      },
      "source": [
        "pure_y=y.cat.codes\n",
        "print(df.columns)\n",
        "print(df.head)\n",
        "\n",
        "from category_encoders import leave_one_out as loo\n",
        "ec = loo.LeaveOneOutEncoder()\n",
        "\n",
        "LOO = ec.fit(obj_X, pure_y)\n",
        "X_LOO = ec.transform(obj_X).round(2)\n",
        "X_LOO.columns = obj_X.columns\n",
        "print(X_LOO.columns)\n",
        "X_LOO.head()\n",
        "CategoricalArra=[[],[],[],[],[],[],[],[]]\n",
        "\n",
        "Arra=[[],[],[],[],[],[],[],[]]\n",
        "def Catdict(xxx,arr):\n",
        "  Arra=arr\n",
        "  for index, row in xxx.iterrows():\n",
        "    if row['Gender'] not in Arra[0]:\n",
        "      \n",
        "      Arra[0].append(row['Gender'])\n",
        "    \n",
        "    \n",
        "    if row['family_history_with_overweight'] not in Arra[1]:\n",
        "      \n",
        "      Arra[1].append(row['family_history_with_overweight'])\n",
        "    \n",
        "    \n",
        "    if row['FAVC'] not in Arra[2]:\n",
        "      \n",
        "      Arra[2].append(row['FAVC'])\n",
        "    \n",
        "    \n",
        "    if row['CAEC'] not in Arra[3]:\n",
        "      \n",
        "      Arra[3].append(row['CAEC'])\n",
        "    \n",
        "    \n",
        "    if row['SMOKE'] not in Arra[4]:\n",
        "      \n",
        "      Arra[4].append(row['SMOKE'])\n",
        "    \n",
        "    \n",
        "    if row['SCC'] not in Arra[5]:\n",
        "      \n",
        "      Arra[5].append(row['SCC'])\n",
        "    \n",
        "    \n",
        "    if row['CALC'] not in Arra[6]:\n",
        "      \n",
        "      Arra[6].append(row['CALC'])\n",
        "    \n",
        "    \n",
        "    if row['MTRANS'] not in Arra[7]:\n",
        "      \n",
        "      Arra[7].append(row['MTRANS'])\n",
        "    \n",
        "    \n",
        "    if index>2000:\n",
        "      return Arra\n",
        "print(obj_X.columns)\n",
        "['Gender', 'family_history_with_overweight', 'FAVC', 'CAEC', 'SMOKE',\n",
        "       'SCC', 'CALC', 'MTRANS'],"
      ],
      "execution_count": null,
      "outputs": [
        {
          "output_type": "stream",
          "text": [
            "Index(['Gender', 'Age', 'Height', 'Weight', 'family_history_with_overweight',\n",
            "       'FAVC', 'FCVC', 'NCP', 'CAEC', 'SMOKE', 'CH2O', 'SCC', 'FAF', 'TUE',\n",
            "       'CALC', 'MTRANS', 'NObeyesdad'],\n",
            "      dtype='object')\n",
            "<bound method NDFrame.head of       Gender        Age  ...                 MTRANS           NObeyesdad\n",
            "0     Female  21.000000  ...  Public_Transportation        Normal_Weight\n",
            "1     Female  21.000000  ...  Public_Transportation        Normal_Weight\n",
            "2       Male  23.000000  ...  Public_Transportation        Normal_Weight\n",
            "3       Male  27.000000  ...                Walking   Overweight_Level_I\n",
            "4       Male  22.000000  ...  Public_Transportation  Overweight_Level_II\n",
            "...      ...        ...  ...                    ...                  ...\n",
            "2106  Female  20.976842  ...  Public_Transportation     Obesity_Type_III\n",
            "2107  Female  21.982942  ...  Public_Transportation     Obesity_Type_III\n",
            "2108  Female  22.524036  ...  Public_Transportation     Obesity_Type_III\n",
            "2109  Female  24.361936  ...  Public_Transportation     Obesity_Type_III\n",
            "2110  Female  23.664709  ...  Public_Transportation     Obesity_Type_III\n",
            "\n",
            "[2111 rows x 17 columns]>\n",
            "Index(['Gender', 'family_history_with_overweight', 'FAVC', 'CAEC', 'SMOKE',\n",
            "       'SCC', 'CALC', 'MTRANS'],\n",
            "      dtype='object')\n",
            "Index(['Gender', 'family_history_with_overweight', 'FAVC', 'CAEC', 'SMOKE',\n",
            "       'SCC', 'CALC', 'MTRANS'],\n",
            "      dtype='object')\n"
          ],
          "name": "stdout"
        },
        {
          "output_type": "execute_result",
          "data": {
            "text/plain": [
              "(['Gender',\n",
              "  'family_history_with_overweight',\n",
              "  'FAVC',\n",
              "  'CAEC',\n",
              "  'SMOKE',\n",
              "  'SCC',\n",
              "  'CALC',\n",
              "  'MTRANS'],)"
            ]
          },
          "metadata": {
            "tags": []
          },
          "execution_count": 71
        }
      ]
    },
    {
      "cell_type": "code",
      "metadata": {
        "colab": {
          "base_uri": "https://localhost:8080/"
        },
        "id": "VyOVJlhHnyYz",
        "outputId": "b8b096ae-53ff-4edf-bb5e-70ecc6cbee69"
      },
      "source": [
        "cate=Catdict(obj_X,CategoricalArra)\n",
        "val=Catdict(X_LOO,Arra)\n",
        "print(cate)\n",
        "print(val)\n",
        "def mkadict(aaa,bbb):\n",
        "  boom={}\n",
        "  for iterr in range(len(aaa)):\n",
        "    for iterR in range(len(aaa[iterr])):\n",
        "      boom[aaa[iterr][iterR]]=bbb[iterr][iterR]\n",
        "  return boom\n",
        "print(mkadict(cate,val))"
      ],
      "execution_count": null,
      "outputs": [
        {
          "output_type": "stream",
          "text": [
            "[['Female', 'Male'], ['yes', 'no'], ['no', 'yes'], ['Sometimes', 'Frequently', 'Always', 'no'], ['no', 'yes'], ['no', 'yes'], ['no', 'Sometimes', 'Frequently', 'Always'], ['Public_Transportation', 'Walking', 'Automobile', 'Motorbike', 'Bike']]\n",
            "[[2.97, 3.06], [3.3, 1.72], [2.78, 3.05], [3.29, 1.11, 1.81, 3.84], [3.02, 2.7], [3.04, 2.56], [2.62, 3.17, 3.51, 3.02], [3.01, 2.14, 3.17, 2.09, 2.43]]\n",
            "{'Female': 2.97, 'Male': 3.06, 'yes': 2.56, 'no': 2.62, 'Sometimes': 3.17, 'Frequently': 3.51, 'Always': 3.02, 'Public_Transportation': 3.01, 'Walking': 2.14, 'Automobile': 3.17, 'Motorbike': 2.09, 'Bike': 2.43}\n"
          ],
          "name": "stdout"
        }
      ]
    },
    {
      "cell_type": "markdown",
      "metadata": {
        "id": "qfXgX-neaE1p"
      },
      "source": [
        "Gender={\"Female\":2.97,\"Male\":3.06}"
      ]
    },
    {
      "cell_type": "markdown",
      "metadata": {
        "id": "-472NVHj7hFs"
      },
      "source": [
        "##Conversion is completed"
      ]
    },
    {
      "cell_type": "code",
      "metadata": {
        "colab": {
          "base_uri": "https://localhost:8080/"
        },
        "id": "iglP-1I68FuG",
        "outputId": "9b60c2fc-9a25-49aa-903c-1f720a936ea1"
      },
      "source": [
        "Float_X=X.select_dtypes(include=[\"float64\"]).copy()\n",
        "\n",
        "print(Float_X.head())\n",
        "\n",
        "import pandas as pd\n",
        "from sklearn import preprocessing\n",
        "\n",
        "#Concatinating both the dfs\n",
        "\n",
        "pure_X=pd.concat([X_LOO,Float_X],axis=1)\n",
        "print(pure_X.head())\n",
        "\n",
        "x = pure_X.values #returns a numpy array\n",
        "min_max_scaler = preprocessing.MinMaxScaler()\n",
        "x_scaled = min_max_scaler.fit_transform(x)\n",
        "pr=min_max_scaler.get_params()\n",
        "print(pr)\n",
        "norm_X = pd.DataFrame(x_scaled,columns=pure_X.columns,index=pure_X.index)\n",
        "print(norm_X.head)"
      ],
      "execution_count": null,
      "outputs": [
        {
          "output_type": "stream",
          "text": [
            "    Age  Height  Weight  FCVC  NCP  CH2O  FAF  TUE\n",
            "0  21.0    1.62    64.0   2.0  3.0   2.0  0.0  1.0\n",
            "1  21.0    1.52    56.0   3.0  3.0   3.0  3.0  0.0\n",
            "2  23.0    1.80    77.0   2.0  3.0   2.0  2.0  1.0\n",
            "3  27.0    1.80    87.0   3.0  3.0   2.0  2.0  0.0\n",
            "4  22.0    1.78    89.8   2.0  1.0   2.0  0.0  0.0\n",
            "   Gender  family_history_with_overweight  FAVC  CAEC  ...  NCP  CH2O  FAF  TUE\n",
            "0    2.97                            3.30  2.78  3.29  ...  3.0   2.0  0.0  1.0\n",
            "1    2.97                            3.30  2.78  3.29  ...  3.0   3.0  3.0  0.0\n",
            "2    3.06                            3.30  2.78  3.29  ...  3.0   2.0  2.0  1.0\n",
            "3    3.06                            1.72  2.78  3.29  ...  3.0   2.0  2.0  0.0\n",
            "4    3.06                            1.72  2.78  3.29  ...  1.0   2.0  0.0  0.0\n",
            "\n",
            "[5 rows x 16 columns]\n",
            "{'copy': True, 'feature_range': (0, 1)}\n",
            "<bound method NDFrame.head of       Gender  family_history_with_overweight  ...       FAF       TUE\n",
            "0        0.0                             1.0  ...  0.000000  0.500000\n",
            "1        0.0                             1.0  ...  1.000000  0.000000\n",
            "2        1.0                             1.0  ...  0.666667  0.500000\n",
            "3        1.0                             0.0  ...  0.666667  0.000000\n",
            "4        1.0                             0.0  ...  0.000000  0.000000\n",
            "...      ...                             ...  ...       ...       ...\n",
            "2106     0.0                             1.0  ...  0.558756  0.453123\n",
            "2107     0.0                             1.0  ...  0.447130  0.299635\n",
            "2108     0.0                             1.0  ...  0.471403  0.323144\n",
            "2109     0.0                             1.0  ...  0.379702  0.293018\n",
            "2110     0.0                             1.0  ...  0.342151  0.357069\n",
            "\n",
            "[2111 rows x 16 columns]>\n"
          ],
          "name": "stdout"
        }
      ]
    },
    {
      "cell_type": "markdown",
      "metadata": {
        "id": "733srsQKbuGz"
      },
      "source": [
        "Categories (7, object): ['Insufficient_Weight', 'Normal_Weight', 'Obesity_Type_I', 'Obesity_Type_II',\n",
        "                         'Obesity_Type_III', 'Overweight_Level_I', 'Overweight_Level_II']>"
      ]
    },
    {
      "cell_type": "code",
      "metadata": {
        "id": "eRz18uLxrwk1"
      },
      "source": [
        "from sklearn.model_selection import train_test_split\n",
        "X_train, X_test, y_train, y_test = train_test_split(pure_X, pure_y, test_size=0.30, random_state=1, stratify=y)\n",
        "X_trlabels=X_train.columns"
      ],
      "execution_count": null,
      "outputs": []
    },
    {
      "cell_type": "code",
      "metadata": {
        "colab": {
          "base_uri": "https://localhost:8080/"
        },
        "id": "X-XcSE7u1ohJ",
        "outputId": "783bac86-79b8-44ba-8300-a2abded3146b"
      },
      "source": [
        "print(X_train.shape)\n",
        "print(y_train.shape)\n",
        "print(X_test.shape)\n",
        "print(y_test.shape)\n",
        "print(X_train.head())\n",
        "print(y_train.head)\n",
        "print(X_test.head)\n",
        "print(y_test.head)"
      ],
      "execution_count": null,
      "outputs": [
        {
          "output_type": "stream",
          "text": [
            "(1477, 16)\n",
            "(1477,)\n",
            "(634, 16)\n",
            "(634,)\n",
            "      Gender  family_history_with_overweight  ...       FAF       TUE\n",
            "1595    3.06                             3.3  ...  1.299469  0.000000\n",
            "1511    3.06                             3.3  ...  2.240500  0.000000\n",
            "1561    3.06                             3.3  ...  0.668963  0.000000\n",
            "1703    3.06                             3.3  ...  0.796770  0.000000\n",
            "890     2.97                             3.3  ...  0.104451  1.899073\n",
            "\n",
            "[5 rows x 16 columns]\n",
            "<bound method NDFrame.head of 1595    3\n",
            "1511    2\n",
            "1561    3\n",
            "1703    3\n",
            "890     5\n",
            "       ..\n",
            "1242    2\n",
            "1931    4\n",
            "745     5\n",
            "528     0\n",
            "934     5\n",
            "Length: 1477, dtype: int8>\n",
            "<bound method NDFrame.head of       Gender  family_history_with_overweight  ...       FAF       TUE\n",
            "140     3.06                             3.3  ...  1.000000  1.000000\n",
            "1881    2.97                             3.3  ...  0.336795  0.153462\n",
            "2087    2.97                             3.3  ...  0.000000  0.224655\n",
            "1176    2.97                             3.3  ...  1.634134  1.000000\n",
            "326     3.06                             3.3  ...  3.000000  0.000000\n",
            "...      ...                             ...  ...       ...       ...\n",
            "2104    2.97                             3.3  ...  1.510398  0.931455\n",
            "617     3.06                             3.3  ...  1.699592  0.071028\n",
            "1693    3.06                             3.3  ...  0.454944  1.915818\n",
            "2101    2.97                             3.3  ...  0.067329  0.455823\n",
            "381     3.06                             3.3  ...  2.000000  0.000000\n",
            "\n",
            "[634 rows x 16 columns]>\n",
            "<bound method NDFrame.head of 140     0\n",
            "1881    4\n",
            "2087    4\n",
            "1176    6\n",
            "326     1\n",
            "       ..\n",
            "2104    4\n",
            "617     0\n",
            "1693    3\n",
            "2101    4\n",
            "381     1\n",
            "Length: 634, dtype: int8>\n"
          ],
          "name": "stdout"
        }
      ]
    },
    {
      "cell_type": "code",
      "metadata": {
        "colab": {
          "base_uri": "https://localhost:8080/",
          "height": 634
        },
        "id": "laSlqSveznkB",
        "outputId": "2a731743-1e07-4343-f0db-75962c667ad2"
      },
      "source": [
        "#Using Pearson Correlation\n",
        "\n",
        "import matplotlib.pyplot as plt\n",
        "import seaborn as sns\n",
        "\n",
        "wholedf=pd.concat([norm_X,pure_y],axis=1)\n",
        "plt.figure(figsize=(12,10))\n",
        "cor = wholedf.corr()\n",
        "sns.heatmap(cor, annot=True, cmap=plt.cm.Reds)\n",
        "plt.show()\n",
        "print(wholedf.shape)\n",
        "print(pure_y.shape)\n",
        "print(norm_X.shape)"
      ],
      "execution_count": null,
      "outputs": [
        {
          "output_type": "display_data",
          "data": {
            "image/png": "[encoded data removed]",
            "text/plain": [
              "<Figure size 864x720 with 2 Axes>"
            ]
          },
          "metadata": {
            "tags": [],
            "needs_background": "light"
          }
        },
        {
          "output_type": "stream",
          "text": [
            "(2111, 17)\n",
            "(2111,)\n",
            "(2111, 16)\n"
          ],
          "name": "stdout"
        }
      ]
    },
    {
      "cell_type": "markdown",
      "metadata": {
        "id": "Rx-HoIjxVVMl"
      },
      "source": [
        "\n",
        "\n",
        "\n",
        "##From the figure \n",
        "The important features are: \n",
        "\n",
        "\n",
        "*   family_history_with_overweight\n",
        "*   CAEC (Consumption of food between meals)\n",
        "*   Age\n",
        "*   Weight\n",
        "*   CALC (Consumption of alcohol)\n",
        "*   H20  (Consumption of water daily)\n",
        "*   FAF   (Physical activity frequency)\n",
        "\n"
      ]
    },
    {
      "cell_type": "code",
      "metadata": {
        "id": "ohCeftvtzuJJ"
      },
      "source": [
        "norm_X.head\n",
        "top_features=norm_X[[\"Age\",\"CAEC\",\"family_history_with_overweight\",\"CALC\",\"Weight\",\"CH2O\",\"FAF\"]]\n",
        "#top_features=norm_X[[\"Weight\"]]"
      ],
      "execution_count": null,
      "outputs": []
    },
    {
      "cell_type": "code",
      "metadata": {
        "id": "gyTqJlXR0_qM",
        "colab": {
          "base_uri": "https://localhost:8080/"
        },
        "outputId": "644fa149-9931-4c71-adc2-e6b3941ac97a"
      },
      "source": [
        "top_features.head"
      ],
      "execution_count": null,
      "outputs": [
        {
          "output_type": "execute_result",
          "data": {
            "text/plain": [
              "<bound method NDFrame.head of            Age      CAEC  ...      CH2O       FAF\n",
              "0     0.148936  0.798535  ...  0.500000  0.000000\n",
              "1     0.148936  0.798535  ...  1.000000  1.000000\n",
              "2     0.191489  0.798535  ...  0.500000  0.666667\n",
              "3     0.276596  0.798535  ...  0.500000  0.666667\n",
              "4     0.170213  0.798535  ...  0.500000  0.000000\n",
              "...        ...       ...  ...       ...       ...\n",
              "2106  0.148443  0.798535  ...  0.364069  0.558756\n",
              "2107  0.169850  0.798535  ...  0.502565  0.447130\n",
              "2108  0.181362  0.798535  ...  0.527097  0.471403\n",
              "2109  0.220467  0.798535  ...  0.926169  0.379702\n",
              "2110  0.205632  0.798535  ...  0.931757  0.342151\n",
              "\n",
              "[2111 rows x 7 columns]>"
            ]
          },
          "metadata": {
            "tags": []
          },
          "execution_count": 24
        }
      ]
    },
    {
      "cell_type": "code",
      "metadata": {
        "colab": {
          "base_uri": "https://localhost:8080/"
        },
        "id": "0YUb7zCS-s1o",
        "outputId": "07d73428-4075-46f3-84a6-d1c26fd2efbe"
      },
      "source": [
        "top_features.shape"
      ],
      "execution_count": null,
      "outputs": [
        {
          "output_type": "execute_result",
          "data": {
            "text/plain": [
              "(2111, 7)"
            ]
          },
          "metadata": {
            "tags": []
          },
          "execution_count": 25
        }
      ]
    },
    {
      "cell_type": "code",
      "metadata": {
        "id": "4fB35Hbi-1x3"
      },
      "source": [
        "from sklearn.linear_model import LogisticRegression"
      ],
      "execution_count": null,
      "outputs": []
    },
    {
      "cell_type": "code",
      "metadata": {
        "id": "f7kgeYIYdo6q"
      },
      "source": [
        "weight_dic={'Insufficient_Weight':0, 'Normal_Weight':1, 'Obesity_Type_I':2, 'Obesity_Type_II':3,\n",
        "                         'Obesity_Type_III':4, 'Overweight_Level_I':5, 'Overweight_Level_II':6}"
      ],
      "execution_count": null,
      "outputs": []
    },
    {
      "cell_type": "code",
      "metadata": {
        "colab": {
          "base_uri": "https://localhost:8080/"
        },
        "id": "KqtXaq-9YUD0",
        "outputId": "e3caf891-5994-4d8c-bb93-4aa0dcf1cfef"
      },
      "source": [
        "p_y=y.map(weight_dic)\n",
        "X_train, X_test, y_train, y_test = train_test_split(top_features, p_y, test_size=0.10)\n",
        "\n",
        "from sklearn.preprocessing import PolynomialFeatures\n",
        "  #17\n",
        "scores={}\n",
        "for i in range(1,4):  \n",
        "  poly = PolynomialFeatures(i)\n",
        "  xtr=poly.fit_transform(X_train)\n",
        "  #print(type(X_train))\n",
        "  #print(type(xtr))\n",
        "  xts=poly.fit_transform(X_test)\n",
        "  regr = LogisticRegression(random_state=0).fit(xtr, y_train)\n",
        "  scores[i]=regr.score(xts,y_test)\n"
      ],
      "execution_count": null,
      "outputs": [
        {
          "output_type": "stream",
          "text": [
            "/usr/local/lib/python3.6/dist-packages/sklearn/linear_model/_logistic.py:940: ConvergenceWarning: lbfgs failed to converge (status=1):\n",
            "STOP: TOTAL NO. of ITERATIONS REACHED LIMIT.\n",
            "\n",
            "Increase the number of iterations (max_iter) or scale the data as shown in:\n",
            "    https://scikit-learn.org/stable/modules/preprocessing.html\n",
            "Please also refer to the documentation for alternative solver options:\n",
            "    https://scikit-learn.org/stable/modules/linear_model.html#logistic-regression\n",
            "  extra_warning_msg=_LOGISTIC_SOLVER_CONVERGENCE_MSG)\n",
            "/usr/local/lib/python3.6/dist-packages/sklearn/linear_model/_logistic.py:940: ConvergenceWarning: lbfgs failed to converge (status=1):\n",
            "STOP: TOTAL NO. of ITERATIONS REACHED LIMIT.\n",
            "\n",
            "Increase the number of iterations (max_iter) or scale the data as shown in:\n",
            "    https://scikit-learn.org/stable/modules/preprocessing.html\n",
            "Please also refer to the documentation for alternative solver options:\n",
            "    https://scikit-learn.org/stable/modules/linear_model.html#logistic-regression\n",
            "  extra_warning_msg=_LOGISTIC_SOLVER_CONVERGENCE_MSG)\n",
            "/usr/local/lib/python3.6/dist-packages/sklearn/linear_model/_logistic.py:940: ConvergenceWarning: lbfgs failed to converge (status=1):\n",
            "STOP: TOTAL NO. of ITERATIONS REACHED LIMIT.\n",
            "\n",
            "Increase the number of iterations (max_iter) or scale the data as shown in:\n",
            "    https://scikit-learn.org/stable/modules/preprocessing.html\n",
            "Please also refer to the documentation for alternative solver options:\n",
            "    https://scikit-learn.org/stable/modules/linear_model.html#logistic-regression\n",
            "  extra_warning_msg=_LOGISTIC_SOLVER_CONVERGENCE_MSG)\n"
          ],
          "name": "stderr"
        }
      ]
    },
    {
      "cell_type": "code",
      "metadata": {
        "colab": {
          "base_uri": "https://localhost:8080/"
        },
        "id": "BxF7DUIBYoyw",
        "outputId": "0ad03718-83f0-4755-ccd0-b3903a93c364"
      },
      "source": [
        "print(scores)"
      ],
      "execution_count": null,
      "outputs": [
        {
          "output_type": "stream",
          "text": [
            "{1: 0.5707547169811321, 2: 0.6839622641509434, 3: 0.7028301886792453}\n"
          ],
          "name": "stdout"
        }
      ]
    },
    {
      "cell_type": "code",
      "metadata": {
        "colab": {
          "base_uri": "https://localhost:8080/"
        },
        "id": "gjh7pvCYY72O",
        "outputId": "1ec48f0d-7455-4d40-bccd-0fd19a66204b"
      },
      "source": [
        "from sklearn.externals import joblib\n",
        "joblib.dump(regr,'ObesemodelPoly3.ml')"
      ],
      "execution_count": null,
      "outputs": [
        {
          "output_type": "execute_result",
          "data": {
            "text/plain": [
              "['ObesemodelPoly3.ml']"
            ]
          },
          "metadata": {
            "tags": []
          },
          "execution_count": 30
        }
      ]
    },
    {
      "cell_type": "code",
      "metadata": {
        "colab": {
          "base_uri": "https://localhost:8080/"
        },
        "id": "JWn25-MYZM1B",
        "outputId": "3ac4dcf4-6f39-4cf6-806b-730ee590105f"
      },
      "source": [
        "X_train.columns"
      ],
      "execution_count": null,
      "outputs": [
        {
          "output_type": "execute_result",
          "data": {
            "text/plain": [
              "Index(['Age', 'CAEC', 'family_history_with_overweight', 'CALC', 'Weight',\n",
              "       'CH2O', 'FAF'],\n",
              "      dtype='object')"
            ]
          },
          "metadata": {
            "tags": []
          },
          "execution_count": 31
        }
      ]
    },
    {
      "cell_type": "code",
      "metadata": {
        "colab": {
          "base_uri": "https://localhost:8080/"
        },
        "id": "Qpc2jwHYr7PA",
        "outputId": "7b338f0d-3115-44fe-ea98-d05d405e5a9d"
      },
      "source": [
        "\n",
        "xx=poly.fit_transform([[21,1,1,1,80,3,1]])\n",
        "regr.predict(xx)"
      ],
      "execution_count": null,
      "outputs": [
        {
          "output_type": "execute_result",
          "data": {
            "text/plain": [
              "array([4])"
            ]
          },
          "metadata": {
            "tags": []
          },
          "execution_count": 32
        }
      ]
    }
  ]
}